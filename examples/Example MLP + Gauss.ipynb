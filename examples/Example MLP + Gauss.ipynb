{
 "cells": [
  {
   "cell_type": "code",
   "execution_count": 1,
   "metadata": {
    "collapsed": false
   },
   "outputs": [
    {
     "name": "stderr",
     "output_type": "stream",
     "text": [
      "/usr/local/lib/python2.7/dist-packages/matplotlib/font_manager.py:273: UserWarning: Matplotlib is building the font cache using fc-list. This may take a moment.\n",
      "  warnings.warn('Matplotlib is building the font cache using fc-list. This may take a moment.')\n"
     ]
    }
   ],
   "source": [
    "import theano\n",
    "from theano_models import Merge\n",
    "from theano_models.visualization import d3viz\n",
    "import theano_models.probabilistic_models as pm\n",
    "import theano_models.deterministic_models as dm\n",
    "import theano_models.postmaps as post\n",
    "from scipy.optimize import minimize\n",
    "from schlichtanders.myfunctools import compose\n",
    "from schlichtanders.mygenerators import replicate, takeN\n",
    "import numpy as np\n",
    "import matplotlib.pyplot as plt\n",
    "from IPython.display import IFrame"
   ]
  },
  {
   "cell_type": "code",
   "execution_count": 2,
   "metadata": {
    "collapsed": false
   },
   "outputs": [
    {
     "data": {
      "text/plain": [
       "Mlp { 'inputs': [TensorConstant{[ 2.  3.  4.]}],\n",
       "  'outputs': AffineNonlinear3.outputs,\n",
       "  'parameters': [weights, bias, weights2, bias2, weights3, bias3]}"
      ]
     },
     "execution_count": 2,
     "metadata": {},
     "output_type": "execute_result"
    }
   ],
   "source": [
    "example_input = np.array([2,3,4])\n",
    "mlp = dm.Mlp(input=example_input, hidden_sizes=[10,10], output_size=2,\n",
    "             hidden_transfers=['rectifier', 'rectifier'], output_transfer='softmax')\n",
    "mlp"
   ]
  },
  {
   "cell_type": "code",
   "execution_count": 3,
   "metadata": {
    "collapsed": false
   },
   "outputs": [
    {
     "data": {
      "text/plain": [
       "GaussianNoise { 'inputs': [AffineNonlinear3.outputs],\n",
       "  'outputs': GaussianNoise.outputs,\n",
       "  'parameters': [],\n",
       "  'parameters_positive': [var]}"
      ]
     },
     "execution_count": 3,
     "metadata": {},
     "output_type": "execute_result"
    }
   ],
   "source": [
    "noise = pm.GaussianNoise(mlp)\n",
    "noise"
   ]
  },
  {
   "cell_type": "code",
   "execution_count": 4,
   "metadata": {
    "collapsed": false
   },
   "outputs": [
    {
     "data": {
      "text/plain": [
       "GaussianNoise.logP { 'extra_inputs': [AffineNonlinear3.outputs],\n",
       "  'inputs': [rv],\n",
       "  'outputs': GaussianNoise.logP.outputs,\n",
       "  'parameters': [],\n",
       "  'parameters_positive': [var]}"
      ]
     },
     "execution_count": 4,
     "metadata": {},
     "output_type": "execute_result"
    }
   ],
   "source": [
    "noise.logP"
   ]
  },
  {
   "cell_type": "code",
   "execution_count": 5,
   "metadata": {
    "collapsed": false
   },
   "outputs": [
    {
     "data": {
      "text/plain": [
       "Merge2 { 'inputs': [TensorConstant{[ 2.  3.  4.]}],\n",
       "  'outputs': GaussianNoise.outputs,\n",
       "  'parameters': [weights, bias, weights2, bias2, weights3, bias3],\n",
       "  'parameters_positive': [var]}"
      ]
     },
     "execution_count": 5,
     "metadata": {},
     "output_type": "execute_result"
    }
   ],
   "source": [
    "noisy_mlp = Merge(noise, mlp)\n",
    "noisy_mlp"
   ]
  },
  {
   "cell_type": "code",
   "execution_count": 6,
   "metadata": {
    "collapsed": false
   },
   "outputs": [
    {
     "data": {
      "text/plain": [
       "{'loss': Elemwise{neg,no_inplace}.0,\n",
       " 'loss_inputs': [rv, TensorConstant{[ 2.  3.  4.]}]}"
      ]
     },
     "execution_count": 6,
     "metadata": {},
     "output_type": "execute_result"
    }
   ],
   "source": [
    "optimizable = post.probabilistic_optimizer_postmap(noisy_mlp)\n",
    "optimizable"
   ]
  },
  {
   "cell_type": "code",
   "execution_count": 7,
   "metadata": {
    "collapsed": false
   },
   "outputs": [],
   "source": [
    "loss = theano.function(optimizable['loss_inputs']+optimizable['parameters'], optimizable['loss'], mode=\"FAST_COMPILE\", profile=True)"
   ]
  },
  {
   "cell_type": "code",
   "execution_count": 8,
   "metadata": {
    "collapsed": false
   },
   "outputs": [],
   "source": [
    "example_inputs = [expr.eval() for expr in optimizable['loss_inputs'][1:]+optimizable['parameters']]"
   ]
  },
  {
   "cell_type": "code",
   "execution_count": 9,
   "metadata": {
    "collapsed": false
   },
   "outputs": [
    {
     "data": {
      "text/plain": [
       "array(1.8378770664093453)"
      ]
     },
     "execution_count": 9,
     "metadata": {},
     "output_type": "execute_result"
    }
   ],
   "source": [
    "loss([0.5, 0.5], *example_inputs)"
   ]
  },
  {
   "cell_type": "code",
   "execution_count": 10,
   "metadata": {
    "collapsed": false
   },
   "outputs": [
    {
     "data": {
      "text/html": [
       "\n",
       "        <iframe\n",
       "            width=\"700\"\n",
       "            height=\"600\"\n",
       "            src=\"tmp/loss.html\"\n",
       "            frameborder=\"0\"\n",
       "            allowfullscreen\n",
       "        ></iframe>\n",
       "        "
      ],
      "text/plain": [
       "<IPython.lib.display.IFrame at 0x7fe84e40f590>"
      ]
     },
     "execution_count": 10,
     "metadata": {},
     "output_type": "execute_result"
    }
   ],
   "source": [
    "d3viz(loss, \"tmp/loss.html\", match_by_names=True)\n",
    "IFrame(\"tmp/loss.html\", width=700, height=600)"
   ]
  },
  {
   "cell_type": "code",
   "execution_count": null,
   "metadata": {
    "collapsed": true
   },
   "outputs": [],
   "source": []
  }
 ],
 "metadata": {
  "kernelspec": {
   "display_name": "Python 2",
   "language": "python",
   "name": "python2"
  },
  "language_info": {
   "codemirror_mode": {
    "name": "ipython",
    "version": 2
   },
   "file_extension": ".py",
   "mimetype": "text/x-python",
   "name": "python",
   "nbconvert_exporter": "python",
   "pygments_lexer": "ipython2",
   "version": "2.7.6"
  },
  "toc": {
   "toc_cell": false,
   "toc_number_sections": true,
   "toc_threshold": 4,
   "toc_window_display": false
  }
 },
 "nbformat": 4,
 "nbformat_minor": 0
}
